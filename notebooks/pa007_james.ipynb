{
 "cells": [
  {
   "cell_type": "markdown",
   "metadata": {},
   "source": [
    "# ELETRONIC HOUSE - TEST A/B"
   ]
  },
  {
   "cell_type": "markdown",
   "metadata": {},
   "source": [
    "# IOT Method"
   ]
  },
  {
   "cell_type": "markdown",
   "metadata": {},
   "source": [
    "## Input"
   ]
  },
  {
   "cell_type": "markdown",
   "metadata": {},
   "source": [
    "### Business Case"
   ]
  },
  {
   "cell_type": "markdown",
   "metadata": {},
   "source": [
    " I. Business problem + Kaggle data"
   ]
  },
  {
   "cell_type": "markdown",
   "metadata": {},
   "source": [
    "## Output"
   ]
  },
  {
   "cell_type": "markdown",
   "metadata": {},
   "source": [
    " I. A sentence saying whether page A is better than page B.\n",
    " \n",
    " II. Page sales potential\n",
    " \n",
    " III. Product revenue potential."
   ]
  },
  {
   "cell_type": "markdown",
   "metadata": {},
   "source": [
    "## Tasks\n",
    "\n",
    "I. Experiment planning.\n",
    "\n",
    "II. Get the data.\n",
    "\n",
    "III. Check data validation.\n",
    "\n",
    "IV. Study the descriptive statistics of the data.\n",
    "\n",
    "V. Create the hypotheses. Explore the Data (Understanding Distributions)\n",
    "\n",
    "VII. Stipulating a test goal (2%)\n",
    "\n",
    "VIII. Stipulate the significance level of the test.\n",
    "\n",
    "IX. Define what will be the statistical test\n",
    "\n",
    "X. Apply the statistical test (Permutation test)\n",
    "\n",
    "XI. Compare the distribution of the 2 pages and see if there is a difference statistically relevant.\n",
    "\n",
    "XII. Deliver the result (see Output\n",
    "\n",
    "OBS: The goal impact directly in the size of the dataset.\n"
   ]
  },
  {
   "cell_type": "markdown",
   "id": "be07bf4b",
   "metadata": {},
   "source": [
    "# 0.0 IMPORTS"
   ]
  },
  {
   "cell_type": "code",
   "execution_count": 121,
   "id": "0e651dbc",
   "metadata": {
    "ExecuteTime": {
     "end_time": "2021-08-09T22:52:13.348954Z",
     "start_time": "2021-08-09T22:52:06.557666Z"
    },
    "hide_input": false
   },
   "outputs": [],
   "source": [
    "import os\n",
    "# import lux\n",
    "import pickle\n",
    "import warnings\n",
    "import inflection\n",
    "import sweetviz                     as sv\n",
    "import pandas                       as pd\n",
    "import numpy                        as np\n",
    "import seaborn                      as sns\n",
    "import matplotlib.pyplot            as plt\n",
    "import IPython\n",
    "from IPython.core.display           import HTML\n",
    "from scipy.stats                    import chi2_contingency,shapiro\n",
    "from statsmodels.stats import api as sms\n",
    "import math\n",
    "from statsmodels.stats import proportion as p\n",
    "\n",
    "# import handcalcs.render\n"
   ]
  },
  {
   "cell_type": "markdown",
   "id": "103e2533",
   "metadata": {},
   "source": [
    "##  Helper Functions"
   ]
  },
  {
   "cell_type": "code",
   "execution_count": 12,
   "id": "01760d06",
   "metadata": {
    "ExecuteTime": {
     "end_time": "2021-08-09T22:52:13.490051Z",
     "start_time": "2021-08-09T22:52:13.348954Z"
    }
   },
   "outputs": [
    {
     "name": "stdout",
     "output_type": "stream",
     "text": [
      "%pylab is deprecated, use %matplotlib inline and import the required libraries.\n",
      "Populating the interactive namespace from numpy and matplotlib\n"
     ]
    },
    {
     "data": {
      "text/html": [
       "<style>.container { width:100% !important; }</style>"
      ],
      "text/plain": [
       "<IPython.core.display.HTML object>"
      ]
     },
     "metadata": {},
     "output_type": "display_data"
    }
   ],
   "source": [
    "\n",
    "\n",
    "def jupyter_settings():\n",
    "    %matplotlib inline\n",
    "    %pylab inline\n",
    "    \n",
    "    plt.style.use( 'bmh' )\n",
    "    plt.rcParams['figure.figsize'] = [25, 12]\n",
    "    plt.rcParams['font.size'] = 24\n",
    "    \n",
    "    display( HTML( '<style>.container { width:100% !important; }</style>') )\n",
    "    pd.options.display.max_columns = None\n",
    "    pd.options.display.max_rows = None\n",
    "    pd.set_option( 'display.expand_frame_repr', False )\n",
    "    \n",
    "    sns.set()\n",
    "jupyter_settings()\n",
    "warnings.filterwarnings(\"ignore\")\n",
    "\n",
    "\n",
    "#Function to plot correlation of a column \n",
    "def plot_corr(col):\n",
    "    a = correlation[col].sort_values(ascending=False).to_frame()\n",
    "    a.columns = ['']\n",
    "    a.drop(col, axis=0, inplace=True)\n",
    "    plot = sns.heatmap( a, annot=True, cmap='Greens').set_title(col);\n",
    "    \n",
    "    return plot\n",
    "\n",
    "# cramer V function to calculate correlation btw categorical variables\n",
    "def cramer_v(x, y):\n",
    "    # Confusion Matrix\n",
    "    cm = pd.crosstab(x, y).values\n",
    "    n = cm.sum()\n",
    "    r, k = cm.shape\n",
    "    \n",
    "    chi2 = chi2_contingency(cm)[0]\n",
    "    \n",
    "    chi2corr = max(0, chi2 - (k-1)*(r-1)/(n-1))\n",
    "    kcorr = k - (k-1)**2/(n-1)\n",
    "    rcorr = r - (r-1)**2/(n-1)\n",
    "    \n",
    "    return np.sqrt((chi2corr/n) / (min(kcorr-1, rcorr-1)))\n",
    "\n",
    "\n",
    "def descriptive_statistics(df1_num):\n",
    "\n",
    "    \"\"\"\n",
    "    Shows the main values ​​for descriptive statistics in numerical variables.\n",
    "\n",
    "    Args:\n",
    "        data ([float64 and int64]): [Insert all numerical attributes in the dataset]\n",
    "\n",
    "    Returns:\n",
    "        [dataframe]: [A dataframe with mean, median, std deviation, skewness, kurtosis, min, max and range]\n",
    "    \"\"\"\n",
    "    \n",
    "    # Central Tendency - mean, meadina\n",
    "    ct1= pd.DataFrame(df1_num.apply(np.mean)).T\n",
    "    ct2= pd.DataFrame(df1_num.apply(np.median)).T\n",
    "\n",
    "    # dispersion - std, min, max, range, skew, kurtosis\n",
    "    ct3= pd.DataFrame(df1_num.apply(np.std)).T\n",
    "    ct4= pd.DataFrame(df1_num.apply(min)).T\n",
    "    ct5= pd.DataFrame(df1_num.apply(max)).T\n",
    "    ct6= pd.DataFrame(df1_num.apply(lambda x: x.max() - x.min())).T\n",
    "    ct7= pd.DataFrame(df1_num.apply(lambda x: x.skew())).T\n",
    "    ct8= pd.DataFrame(df1_num.apply(lambda x: x.kurtosis())).T\n",
    "    ct9 = pd.DataFrame(df1_num.apply(lambda x: 'not normal' if shapiro(x.sample(5000))[1] < 0.05 else 'normal')).T\n",
    "\n",
    "\n",
    "    # concatenar\n",
    "    df_statistics= pd.concat([ct4, ct5, ct6, ct1, ct2,ct3, ct7, ct8, ct9]).T\n",
    "    df_statistics.columns=['min', 'max', 'range', 'mean', 'median', 'std', 'skew', 'kurtosis', 'shapiro']\n",
    "    df_statistics.round(2)\n",
    "\n",
    "    return df_statistics\n"
   ]
  },
  {
   "cell_type": "markdown",
   "id": "8cb81d4e",
   "metadata": {},
   "source": [
    "##  Get Data from Database"
   ]
  },
  {
   "cell_type": "markdown",
   "id": "55a8c328",
   "metadata": {},
   "source": [
    "##  Load dataset"
   ]
  },
  {
   "cell_type": "code",
   "execution_count": 4,
   "id": "f6597c41",
   "metadata": {
    "ExecuteTime": {
     "end_time": "2021-08-09T22:52:13.506007Z",
     "start_time": "2021-08-09T22:52:13.494041Z"
    }
   },
   "outputs": [
    {
     "data": {
      "text/html": [
       "<div>\n",
       "<style scoped>\n",
       "    .dataframe tbody tr th:only-of-type {\n",
       "        vertical-align: middle;\n",
       "    }\n",
       "\n",
       "    .dataframe tbody tr th {\n",
       "        vertical-align: top;\n",
       "    }\n",
       "\n",
       "    .dataframe thead th {\n",
       "        text-align: right;\n",
       "    }\n",
       "</style>\n",
       "<table border=\"1\" class=\"dataframe\">\n",
       "  <thead>\n",
       "    <tr style=\"text-align: right;\">\n",
       "      <th></th>\n",
       "      <th>user_id</th>\n",
       "      <th>timestamp</th>\n",
       "      <th>group</th>\n",
       "      <th>landing_page</th>\n",
       "      <th>converted</th>\n",
       "    </tr>\n",
       "  </thead>\n",
       "  <tbody>\n",
       "    <tr>\n",
       "      <th>0</th>\n",
       "      <td>851104</td>\n",
       "      <td>2017-01-21 22:11:48.556739</td>\n",
       "      <td>control</td>\n",
       "      <td>old_page</td>\n",
       "      <td>0</td>\n",
       "    </tr>\n",
       "    <tr>\n",
       "      <th>1</th>\n",
       "      <td>804228</td>\n",
       "      <td>2017-01-12 08:01:45.159739</td>\n",
       "      <td>control</td>\n",
       "      <td>old_page</td>\n",
       "      <td>0</td>\n",
       "    </tr>\n",
       "    <tr>\n",
       "      <th>2</th>\n",
       "      <td>661590</td>\n",
       "      <td>2017-01-11 16:55:06.154213</td>\n",
       "      <td>treatment</td>\n",
       "      <td>new_page</td>\n",
       "      <td>0</td>\n",
       "    </tr>\n",
       "    <tr>\n",
       "      <th>3</th>\n",
       "      <td>853541</td>\n",
       "      <td>2017-01-08 18:28:03.143765</td>\n",
       "      <td>treatment</td>\n",
       "      <td>new_page</td>\n",
       "      <td>0</td>\n",
       "    </tr>\n",
       "    <tr>\n",
       "      <th>4</th>\n",
       "      <td>864975</td>\n",
       "      <td>2017-01-21 01:52:26.210827</td>\n",
       "      <td>control</td>\n",
       "      <td>old_page</td>\n",
       "      <td>1</td>\n",
       "    </tr>\n",
       "  </tbody>\n",
       "</table>\n",
       "</div>"
      ],
      "text/plain": [
       "   user_id                   timestamp      group landing_page  converted\n",
       "0   851104  2017-01-21 22:11:48.556739    control     old_page          0\n",
       "1   804228  2017-01-12 08:01:45.159739    control     old_page          0\n",
       "2   661590  2017-01-11 16:55:06.154213  treatment     new_page          0\n",
       "3   853541  2017-01-08 18:28:03.143765  treatment     new_page          0\n",
       "4   864975  2017-01-21 01:52:26.210827    control     old_page          1"
      ]
     },
     "execution_count": 4,
     "metadata": {},
     "output_type": "execute_result"
    }
   ],
   "source": [
    "df_raw=pd.read_csv('/home/tc0019/DS/pa007/data/raw/ab_data.csv')\n",
    "df_raw.head()"
   ]
  },
  {
   "cell_type": "markdown",
   "id": "bcd22037",
   "metadata": {
    "heading_collapsed": true
   },
   "source": [
    "#  1.0 DATA DESCRIPTION"
   ]
  },
  {
   "cell_type": "code",
   "execution_count": 5,
   "id": "da12c649",
   "metadata": {
    "ExecuteTime": {
     "end_time": "2021-08-09T16:54:19.953439Z",
     "start_time": "2021-08-09T16:54:19.924045Z"
    },
    "hidden": true
   },
   "outputs": [],
   "source": [
    "df1=df_raw.copy()"
   ]
  },
  {
   "cell_type": "markdown",
   "id": "391caa14",
   "metadata": {
    "ExecuteTime": {
     "end_time": "2019-11-10T11:26:41.736121Z",
     "start_time": "2019-11-10T11:26:41.732986Z"
    },
    "hidden": true
   },
   "source": [
    "## 1.1. Rename Columns\n",
    "\n",
    "All columns will be renamed to snake case: https://en.wikipedia.org/wiki/Snake_case.\n",
    "\n",
    "The main objective is create a columns name pattern to make simple dealing with the dataset."
   ]
  },
  {
   "cell_type": "code",
   "execution_count": 5,
   "id": "61d76934",
   "metadata": {
    "ExecuteTime": {
     "end_time": "2021-08-09T16:54:19.983358Z",
     "start_time": "2021-08-09T16:54:19.964410Z"
    },
    "hidden": true
   },
   "outputs": [
    {
     "data": {
      "text/plain": [
       "Index(['user_id', 'timestamp', 'group', 'landing_page', 'converted'], dtype='object')"
      ]
     },
     "execution_count": 5,
     "metadata": {},
     "output_type": "execute_result"
    }
   ],
   "source": [
    "df1.columns"
   ]
  },
  {
   "cell_type": "code",
   "execution_count": 6,
   "metadata": {},
   "outputs": [],
   "source": [
    "cols_old=['user_id', 'timestamp', 'group', 'landing_page', 'converted']\n",
    "\n",
    "snakecase = lambda x: inflection.underscore(x)\n",
    "cols_new = list(map(snakecase, cols_old))\n",
    "\n",
    "df1.columns = cols_new"
   ]
  },
  {
   "cell_type": "markdown",
   "id": "a752cee0",
   "metadata": {
    "ExecuteTime": {
     "end_time": "2019-11-10T11:26:41.736121Z",
     "start_time": "2019-11-10T11:26:41.732986Z"
    },
    "hidden": true
   },
   "source": [
    "## 1.2. Data Dimensions"
   ]
  },
  {
   "cell_type": "code",
   "execution_count": 7,
   "id": "061bf434",
   "metadata": {
    "ExecuteTime": {
     "end_time": "2021-08-09T16:54:19.998318Z",
     "start_time": "2021-08-09T16:54:19.988345Z"
    },
    "hidden": true
   },
   "outputs": [
    {
     "name": "stdout",
     "output_type": "stream",
     "text": [
      "Number of Rows: 294478\n",
      "Number of Columns: 5\n"
     ]
    }
   ],
   "source": [
    "rows_, columns_= df1.shape\n",
    "\n",
    "print( f'Number of Rows: {rows_}\\nNumber of Columns: {columns_}')"
   ]
  },
  {
   "cell_type": "markdown",
   "id": "ec5661d3",
   "metadata": {
    "ExecuteTime": {
     "end_time": "2019-11-10T11:26:41.736121Z",
     "start_time": "2019-11-10T11:26:41.732986Z"
    },
    "hidden": true
   },
   "source": [
    "## 1.3. Data Types"
   ]
  },
  {
   "cell_type": "code",
   "execution_count": 8,
   "id": "4e92205c",
   "metadata": {
    "ExecuteTime": {
     "end_time": "2021-08-09T16:54:20.029237Z",
     "start_time": "2021-08-09T16:54:20.002307Z"
    },
    "hidden": true
   },
   "outputs": [
    {
     "data": {
      "text/plain": [
       "user_id          int64\n",
       "timestamp       object\n",
       "group           object\n",
       "landing_page    object\n",
       "converted        int64\n",
       "dtype: object"
      ]
     },
     "execution_count": 8,
     "metadata": {},
     "output_type": "execute_result"
    }
   ],
   "source": [
    "df1.dtypes"
   ]
  },
  {
   "cell_type": "markdown",
   "metadata": {},
   "source": [
    "### 1.3.1 Changing datatype"
   ]
  },
  {
   "cell_type": "code",
   "execution_count": 18,
   "metadata": {},
   "outputs": [],
   "source": [
    "df1['timestamp']=pd.to_datetime(df1['timestamp']).apply(lambda x: x.strftime('%Y-%m-%d'))"
   ]
  },
  {
   "cell_type": "markdown",
   "id": "62a84d97",
   "metadata": {
    "ExecuteTime": {
     "end_time": "2019-11-10T11:26:41.736121Z",
     "start_time": "2019-11-10T11:26:41.732986Z"
    },
    "hidden": true
   },
   "source": [
    "## 1.4. Check NA\n",
    "\n",
    " The dataset has no occurrence of NAs"
   ]
  },
  {
   "cell_type": "code",
   "execution_count": 10,
   "id": "b8e5bed5",
   "metadata": {
    "ExecuteTime": {
     "end_time": "2021-08-09T16:54:20.199779Z",
     "start_time": "2021-08-09T16:54:20.033225Z"
    },
    "hidden": true
   },
   "outputs": [
    {
     "data": {
      "text/plain": [
       "user_id         0\n",
       "timestamp       0\n",
       "group           0\n",
       "landing_page    0\n",
       "converted       0\n",
       "dtype: int64"
      ]
     },
     "execution_count": 10,
     "metadata": {},
     "output_type": "execute_result"
    }
   ],
   "source": [
    "df1.isna().sum()"
   ]
  },
  {
   "cell_type": "markdown",
   "id": "f73ccbe3",
   "metadata": {
    "ExecuteTime": {
     "end_time": "2019-11-10T11:26:41.736121Z",
     "start_time": "2019-11-10T11:26:41.732986Z"
    },
    "hidden": true
   },
   "source": [
    "## 1.5. Descriptive Statistics"
   ]
  },
  {
   "cell_type": "code",
   "execution_count": 11,
   "id": "342e7750",
   "metadata": {
    "ExecuteTime": {
     "end_time": "2021-08-09T16:54:20.262611Z",
     "start_time": "2021-08-09T16:54:20.202772Z"
    },
    "hidden": true
   },
   "outputs": [],
   "source": [
    "df1_num=df1.select_dtypes(include=['int64', 'float64'])\n",
    "df1_cat=df1.select_dtypes(exclude=['int64', 'float64', 'datetime'])"
   ]
  },
  {
   "cell_type": "markdown",
   "id": "dcca40cb",
   "metadata": {
    "ExecuteTime": {
     "end_time": "2019-11-10T11:26:41.736121Z",
     "start_time": "2019-11-10T11:26:41.732986Z"
    },
    "hidden": true
   },
   "source": [
    "### 1.5.1. Numerical Atributes"
   ]
  },
  {
   "cell_type": "code",
   "execution_count": 13,
   "id": "73a1615c",
   "metadata": {
    "ExecuteTime": {
     "end_time": "2021-08-09T16:54:21.864706Z",
     "start_time": "2021-08-09T16:54:20.265604Z"
    },
    "hidden": true
   },
   "outputs": [
    {
     "data": {
      "text/html": [
       "<div>\n",
       "<style scoped>\n",
       "    .dataframe tbody tr th:only-of-type {\n",
       "        vertical-align: middle;\n",
       "    }\n",
       "\n",
       "    .dataframe tbody tr th {\n",
       "        vertical-align: top;\n",
       "    }\n",
       "\n",
       "    .dataframe thead th {\n",
       "        text-align: right;\n",
       "    }\n",
       "</style>\n",
       "<table border=\"1\" class=\"dataframe\">\n",
       "  <thead>\n",
       "    <tr style=\"text-align: right;\">\n",
       "      <th></th>\n",
       "      <th>min</th>\n",
       "      <th>max</th>\n",
       "      <th>range</th>\n",
       "      <th>mean</th>\n",
       "      <th>median</th>\n",
       "      <th>std</th>\n",
       "      <th>skew</th>\n",
       "      <th>kurtosis</th>\n",
       "      <th>shapiro</th>\n",
       "    </tr>\n",
       "  </thead>\n",
       "  <tbody>\n",
       "    <tr>\n",
       "      <th>user_id</th>\n",
       "      <td>630000</td>\n",
       "      <td>945999</td>\n",
       "      <td>315999</td>\n",
       "      <td>787974.124733</td>\n",
       "      <td>787933.5</td>\n",
       "      <td>91210.668907</td>\n",
       "      <td>0.000895</td>\n",
       "      <td>-1.200045</td>\n",
       "      <td>not normal</td>\n",
       "    </tr>\n",
       "    <tr>\n",
       "      <th>converted</th>\n",
       "      <td>0</td>\n",
       "      <td>1</td>\n",
       "      <td>1</td>\n",
       "      <td>0.119659</td>\n",
       "      <td>0.0</td>\n",
       "      <td>0.324563</td>\n",
       "      <td>2.343725</td>\n",
       "      <td>3.493071</td>\n",
       "      <td>not normal</td>\n",
       "    </tr>\n",
       "  </tbody>\n",
       "</table>\n",
       "</div>"
      ],
      "text/plain": [
       "              min     max   range           mean    median           std      skew  kurtosis     shapiro\n",
       "user_id    630000  945999  315999  787974.124733  787933.5  91210.668907  0.000895 -1.200045  not normal\n",
       "converted       0       1       1       0.119659       0.0      0.324563  2.343725  3.493071  not normal"
      ]
     },
     "execution_count": 13,
     "metadata": {},
     "output_type": "execute_result"
    }
   ],
   "source": [
    "descriptive_statistics(df1_num)"
   ]
  },
  {
   "cell_type": "code",
   "execution_count": 13,
   "metadata": {},
   "outputs": [
    {
     "data": {
      "text/html": [
       "<div>\n",
       "<style scoped>\n",
       "    .dataframe tbody tr th:only-of-type {\n",
       "        vertical-align: middle;\n",
       "    }\n",
       "\n",
       "    .dataframe tbody tr th {\n",
       "        vertical-align: top;\n",
       "    }\n",
       "\n",
       "    .dataframe thead th {\n",
       "        text-align: right;\n",
       "    }\n",
       "</style>\n",
       "<table border=\"1\" class=\"dataframe\">\n",
       "  <thead>\n",
       "    <tr style=\"text-align: right;\">\n",
       "      <th></th>\n",
       "      <th>group</th>\n",
       "      <th>landing_page</th>\n",
       "    </tr>\n",
       "  </thead>\n",
       "  <tbody>\n",
       "    <tr>\n",
       "      <th>0</th>\n",
       "      <td>control</td>\n",
       "      <td>old_page</td>\n",
       "    </tr>\n",
       "    <tr>\n",
       "      <th>1</th>\n",
       "      <td>control</td>\n",
       "      <td>old_page</td>\n",
       "    </tr>\n",
       "    <tr>\n",
       "      <th>2</th>\n",
       "      <td>treatment</td>\n",
       "      <td>new_page</td>\n",
       "    </tr>\n",
       "    <tr>\n",
       "      <th>3</th>\n",
       "      <td>treatment</td>\n",
       "      <td>new_page</td>\n",
       "    </tr>\n",
       "    <tr>\n",
       "      <th>4</th>\n",
       "      <td>control</td>\n",
       "      <td>old_page</td>\n",
       "    </tr>\n",
       "  </tbody>\n",
       "</table>\n",
       "</div>"
      ],
      "text/plain": [
       "       group landing_page\n",
       "0    control     old_page\n",
       "1    control     old_page\n",
       "2  treatment     new_page\n",
       "3  treatment     new_page\n",
       "4    control     old_page"
      ]
     },
     "execution_count": 13,
     "metadata": {},
     "output_type": "execute_result"
    }
   ],
   "source": [
    "df1_cat.head()"
   ]
  },
  {
   "cell_type": "code",
   "execution_count": 14,
   "metadata": {},
   "outputs": [
    {
     "data": {
      "image/png": "[encoded data removed]",
      "text/plain": [
       "<Figure size 1800x864 with 3 Axes>"
      ]
     },
     "metadata": {},
     "output_type": "display_data"
    }
   ],
   "source": [
    "plt.subplot(1,3,1)\n",
    "aux2=df1[['group', 'landing_page','converted']].groupby(['group','converted']).count().reset_index()\n",
    "sns.barplot(x='group', y='landing_page', hue='converted', data=aux2).set_title('Group X convertido X LD Page', fontsize=20);\n",
    "\n",
    "plt.subplot(1,3,2)\n",
    "aux1=df1[['group','converted']].groupby('group').sum().reset_index()\n",
    "sns.barplot(x='group',  y='converted', data=aux1).set_title('Group x Converted', fontsize=20);\n",
    "plt.ticklabel_format(style='plain', axis='y')\n",
    "\n",
    "\n",
    "plt.subplot(1,3,3)\n",
    "aux=df1[['landing_page','converted']].groupby(['landing_page']).sum().reset_index()\n",
    "sns.barplot(x='landing_page', y='converted', data=aux).set_title('Landing Page x Converted', fontsize=20)\n",
    "plt.show()\n"
   ]
  },
  {
   "cell_type": "markdown",
   "metadata": {},
   "source": [
    "## 1.6 Visualization"
   ]
  },
  {
   "cell_type": "code",
   "execution_count": 19,
   "metadata": {},
   "outputs": [
    {
     "data": {
      "application/vnd.jupyter.widget-view+json": {
       "model_id": "ae5e0c5bb9884ecd98f4ad128e5b12ce",
       "version_major": 2,
       "version_minor": 0
      },
      "text/plain": [
       "                                             |          | [  0%]   00:00 -> (? left)"
      ]
     },
     "metadata": {},
     "output_type": "display_data"
    },
    {
     "name": "stdout",
     "output_type": "stream",
     "text": [
      "Report SWEETVIZ_REPORT.html was generated! NOTEBOOK/COLAB USERS: the web browser MAY not pop up, regardless, the report IS saved in your notebook/colab files.\n"
     ]
    }
   ],
   "source": [
    "my_report = sv.analyze(df1)\n",
    "my_report.show_html()"
   ]
  },
  {
   "cell_type": "markdown",
   "id": "07411f79",
   "metadata": {
    "ExecuteTime": {
     "end_time": "2021-06-27T23:11:51.763676Z",
     "start_time": "2021-06-27T23:11:51.569419Z"
    },
    "heading_collapsed": true
   },
   "source": [
    "# 2.0 EDA"
   ]
  },
  {
   "cell_type": "code",
   "execution_count": 20,
   "id": "fb4828d6",
   "metadata": {
    "ExecuteTime": {
     "end_time": "2021-08-09T16:54:21.898769Z",
     "start_time": "2021-08-09T16:54:21.867700Z"
    },
    "hidden": true
   },
   "outputs": [
    {
     "data": {
      "text/html": [
       "<div>\n",
       "<style scoped>\n",
       "    .dataframe tbody tr th:only-of-type {\n",
       "        vertical-align: middle;\n",
       "    }\n",
       "\n",
       "    .dataframe tbody tr th {\n",
       "        vertical-align: top;\n",
       "    }\n",
       "\n",
       "    .dataframe thead th {\n",
       "        text-align: right;\n",
       "    }\n",
       "</style>\n",
       "<table border=\"1\" class=\"dataframe\">\n",
       "  <thead>\n",
       "    <tr style=\"text-align: right;\">\n",
       "      <th></th>\n",
       "      <th>user_id</th>\n",
       "      <th>timestamp</th>\n",
       "      <th>group</th>\n",
       "      <th>landing_page</th>\n",
       "      <th>converted</th>\n",
       "    </tr>\n",
       "  </thead>\n",
       "  <tbody>\n",
       "    <tr>\n",
       "      <th>0</th>\n",
       "      <td>851104</td>\n",
       "      <td>2017-01-21</td>\n",
       "      <td>control</td>\n",
       "      <td>old_page</td>\n",
       "      <td>0</td>\n",
       "    </tr>\n",
       "    <tr>\n",
       "      <th>1</th>\n",
       "      <td>804228</td>\n",
       "      <td>2017-01-12</td>\n",
       "      <td>control</td>\n",
       "      <td>old_page</td>\n",
       "      <td>0</td>\n",
       "    </tr>\n",
       "    <tr>\n",
       "      <th>2</th>\n",
       "      <td>661590</td>\n",
       "      <td>2017-01-11</td>\n",
       "      <td>treatment</td>\n",
       "      <td>new_page</td>\n",
       "      <td>0</td>\n",
       "    </tr>\n",
       "    <tr>\n",
       "      <th>3</th>\n",
       "      <td>853541</td>\n",
       "      <td>2017-01-08</td>\n",
       "      <td>treatment</td>\n",
       "      <td>new_page</td>\n",
       "      <td>0</td>\n",
       "    </tr>\n",
       "    <tr>\n",
       "      <th>4</th>\n",
       "      <td>864975</td>\n",
       "      <td>2017-01-21</td>\n",
       "      <td>control</td>\n",
       "      <td>old_page</td>\n",
       "      <td>1</td>\n",
       "    </tr>\n",
       "  </tbody>\n",
       "</table>\n",
       "</div>"
      ],
      "text/plain": [
       "   user_id   timestamp      group landing_page  converted\n",
       "0   851104  2017-01-21    control     old_page          0\n",
       "1   804228  2017-01-12    control     old_page          0\n",
       "2   661590  2017-01-11  treatment     new_page          0\n",
       "3   853541  2017-01-08  treatment     new_page          0\n",
       "4   864975  2017-01-21    control     old_page          1"
      ]
     },
     "execution_count": 20,
     "metadata": {},
     "output_type": "execute_result"
    }
   ],
   "source": [
    "df2 = df1.copy()\n",
    "df2.head()"
   ]
  },
  {
   "cell_type": "code",
   "execution_count": 22,
   "metadata": {},
   "outputs": [
    {
     "name": "stdout",
     "output_type": "stream",
     "text": [
      "2017-01-02\n",
      "2017-01-24\n"
     ]
    }
   ],
   "source": [
    "print(df2.timestamp.min())\n",
    "print(df2.timestamp.max())"
   ]
  },
  {
   "cell_type": "markdown",
   "id": "1bd20828",
   "metadata": {
    "hidden": true
   },
   "source": [
    "###  2.1 Hypotheses List"
   ]
  },
  {
   "cell_type": "markdown",
   "metadata": {},
   "source": [
    "1. The current landing page converts more than the new one.\n",
    "2. The new land page convert more in the first 5 days.\n",
    "3. The median converted is the same.\n"
   ]
  },
  {
   "cell_type": "markdown",
   "metadata": {},
   "source": [
    "1. The current landing page converts more than the new one.\n"
   ]
  },
  {
   "cell_type": "code",
   "execution_count": 78,
   "metadata": {},
   "outputs": [
    {
     "data": {
      "image/png": "[encoded data removed]",
      "text/plain": [
       "<Figure size 2500x1200 with 1 Axes>"
      ]
     },
     "metadata": {},
     "output_type": "display_data"
    }
   ],
   "source": [
    "sns.countplot(x='converted', hue='landing_page', data=df2);"
   ]
  },
  {
   "cell_type": "markdown",
   "metadata": {},
   "source": [
    "2. The new land page convert more in the first 5 days.\n",
    "    - FALSE the new page is converting 30 clients less than the current page in the first five days."
   ]
  },
  {
   "cell_type": "code",
   "execution_count": 79,
   "metadata": {},
   "outputs": [
    {
     "name": "stdout",
     "output_type": "stream",
     "text": [
      "The total clients converted using the NEW PAGE in the first five days are: 3485\n",
      "The total clients converted using the CURRENT PAGE in the first five days are: 3515\n"
     ]
    }
   ],
   "source": [
    "aux1=df2[['user_id', 'landing_page','converted','timestamp']].groupby(['timestamp', 'landing_page']).agg({'user_id': ['count'],'converted': ['sum']}).reset_index()\n",
    "aux1.columns=['timestamp', 'landing_page','count_id', 'sum_converted']\n",
    "\n",
    "df_new_page5=aux1.loc[(aux1['timestamp']<='2017-01-06') & (aux1['landing_page']=='new_page')]\n",
    "df_old_page5=aux1.loc[(aux1['timestamp']<='2017-01-06') & (aux1['landing_page']=='old_page')]\n",
    "\n",
    "print(f'The total clients converted using the NEW PAGE in the first five days are: {df_new_page5.sum_converted.sum()}')\n",
    "print(f'The total clients converted using the CURRENT PAGE in the first five days are: {df_old_page5.sum_converted.sum()}')"
   ]
  },
  {
   "cell_type": "markdown",
   "metadata": {},
   "source": [
    "3. The average converted is the same.\n",
    "    - True the average converted is the same."
   ]
  },
  {
   "cell_type": "code",
   "execution_count": 49,
   "metadata": {},
   "outputs": [
    {
     "data": {
      "text/html": [
       "<div>\n",
       "<style scoped>\n",
       "    .dataframe tbody tr th:only-of-type {\n",
       "        vertical-align: middle;\n",
       "    }\n",
       "\n",
       "    .dataframe tbody tr th {\n",
       "        vertical-align: top;\n",
       "    }\n",
       "\n",
       "    .dataframe thead th {\n",
       "        text-align: right;\n",
       "    }\n",
       "</style>\n",
       "<table border=\"1\" class=\"dataframe\">\n",
       "  <thead>\n",
       "    <tr style=\"text-align: right;\">\n",
       "      <th></th>\n",
       "      <th>group</th>\n",
       "      <th>converted</th>\n",
       "      <th>grp_mean</th>\n",
       "    </tr>\n",
       "  </thead>\n",
       "  <tbody>\n",
       "    <tr>\n",
       "      <th>0</th>\n",
       "      <td>control</td>\n",
       "      <td>17723</td>\n",
       "      <td>6.0</td>\n",
       "    </tr>\n",
       "    <tr>\n",
       "      <th>1</th>\n",
       "      <td>treatment</td>\n",
       "      <td>17514</td>\n",
       "      <td>6.0</td>\n",
       "    </tr>\n",
       "  </tbody>\n",
       "</table>\n",
       "</div>"
      ],
      "text/plain": [
       "       group  converted  grp_mean\n",
       "0    control      17723       6.0\n",
       "1  treatment      17514       6.0"
      ]
     },
     "execution_count": 49,
     "metadata": {},
     "output_type": "execute_result"
    }
   ],
   "source": [
    "aux=df2[['group', 'converted']].groupby('group').agg('sum').reset_index()\n",
    "aux['grp_mean']=100*(aux['converted']/df2.shape[0]).round(2)\n",
    "aux.head()"
   ]
  },
  {
   "cell_type": "markdown",
   "metadata": {},
   "source": [
    "# 3.0 Experiment Design"
   ]
  },
  {
   "cell_type": "code",
   "execution_count": 83,
   "metadata": {},
   "outputs": [],
   "source": [
    "df3=df2.copy()"
   ]
  },
  {
   "cell_type": "markdown",
   "metadata": {},
   "source": [
    "## 3.1 Hypotheses Formulation\n",
    "\n",
    "- H0: The current convertion rate is better than the new page convertion rate.\n",
    "- H1: The new page convertion overcomes the current page convertion rate."
   ]
  },
  {
   "cell_type": "markdown",
   "metadata": {},
   "source": [
    "## 3.2 Experiment Parameters"
   ]
  },
  {
   "cell_type": "code",
   "execution_count": 81,
   "metadata": {},
   "outputs": [
    {
     "data": {
      "text/plain": [
       "4720"
      ]
     },
     "execution_count": 81,
     "metadata": {},
     "output_type": "execute_result"
    }
   ],
   "source": [
    "confidence_level=0.95\n",
    "significance_level=0.05\n",
    "\n",
    "# page conversions \n",
    "p1=0.13\n",
    "p2=0.15\n",
    "effect_size=sms.proportion_effectsize(p1, p2)\n",
    "statistical_power=0.80\n",
    "\n",
    "# sample size\n",
    "sample_n=sms.NormalIndPower().solve_power(effect_size, power=statistical_power, alpha=significance_level)\n",
    "sample_n=math.ceil(sample_n)\n",
    "sample_n"
   ]
  },
  {
   "cell_type": "markdown",
   "metadata": {},
   "source": [
    "## 3.2 Check A/B Flag"
   ]
  },
  {
   "cell_type": "code",
   "execution_count": 84,
   "metadata": {},
   "outputs": [
    {
     "data": {
      "text/html": [
       "<div>\n",
       "<style scoped>\n",
       "    .dataframe tbody tr th:only-of-type {\n",
       "        vertical-align: middle;\n",
       "    }\n",
       "\n",
       "    .dataframe tbody tr th {\n",
       "        vertical-align: top;\n",
       "    }\n",
       "\n",
       "    .dataframe thead th {\n",
       "        text-align: right;\n",
       "    }\n",
       "</style>\n",
       "<table border=\"1\" class=\"dataframe\">\n",
       "  <thead>\n",
       "    <tr style=\"text-align: right;\">\n",
       "      <th></th>\n",
       "      <th>group</th>\n",
       "      <th>landing_page</th>\n",
       "      <th>user_id</th>\n",
       "    </tr>\n",
       "  </thead>\n",
       "  <tbody>\n",
       "    <tr>\n",
       "      <th>0</th>\n",
       "      <td>control</td>\n",
       "      <td>new_page</td>\n",
       "      <td>1928</td>\n",
       "    </tr>\n",
       "    <tr>\n",
       "      <th>1</th>\n",
       "      <td>control</td>\n",
       "      <td>old_page</td>\n",
       "      <td>145274</td>\n",
       "    </tr>\n",
       "    <tr>\n",
       "      <th>2</th>\n",
       "      <td>treatment</td>\n",
       "      <td>new_page</td>\n",
       "      <td>145311</td>\n",
       "    </tr>\n",
       "    <tr>\n",
       "      <th>3</th>\n",
       "      <td>treatment</td>\n",
       "      <td>old_page</td>\n",
       "      <td>1965</td>\n",
       "    </tr>\n",
       "  </tbody>\n",
       "</table>\n",
       "</div>"
      ],
      "text/plain": [
       "       group landing_page  user_id\n",
       "0    control     new_page     1928\n",
       "1    control     old_page   145274\n",
       "2  treatment     new_page   145311\n",
       "3  treatment     old_page     1965"
      ]
     },
     "execution_count": 84,
     "metadata": {},
     "output_type": "execute_result"
    }
   ],
   "source": [
    "df3[['user_id','group', 'landing_page']].groupby(['group', 'landing_page']).count().reset_index()"
   ]
  },
  {
   "cell_type": "code",
   "execution_count": 85,
   "metadata": {},
   "outputs": [
    {
     "data": {
      "text/html": [
       "<div>\n",
       "<style scoped>\n",
       "    .dataframe tbody tr th:only-of-type {\n",
       "        vertical-align: middle;\n",
       "    }\n",
       "\n",
       "    .dataframe tbody tr th {\n",
       "        vertical-align: top;\n",
       "    }\n",
       "\n",
       "    .dataframe thead th {\n",
       "        text-align: right;\n",
       "    }\n",
       "</style>\n",
       "<table border=\"1\" class=\"dataframe\">\n",
       "  <thead>\n",
       "    <tr style=\"text-align: right;\">\n",
       "      <th></th>\n",
       "      <th>user_id</th>\n",
       "      <th>group</th>\n",
       "    </tr>\n",
       "  </thead>\n",
       "  <tbody>\n",
       "    <tr>\n",
       "      <th>43</th>\n",
       "      <td>630052</td>\n",
       "      <td>2</td>\n",
       "    </tr>\n",
       "    <tr>\n",
       "      <th>111</th>\n",
       "      <td>630126</td>\n",
       "      <td>2</td>\n",
       "    </tr>\n",
       "    <tr>\n",
       "      <th>122</th>\n",
       "      <td>630137</td>\n",
       "      <td>2</td>\n",
       "    </tr>\n",
       "    <tr>\n",
       "      <th>281</th>\n",
       "      <td>630320</td>\n",
       "      <td>2</td>\n",
       "    </tr>\n",
       "    <tr>\n",
       "      <th>420</th>\n",
       "      <td>630471</td>\n",
       "      <td>2</td>\n",
       "    </tr>\n",
       "  </tbody>\n",
       "</table>\n",
       "</div>"
      ],
      "text/plain": [
       "     user_id  group\n",
       "43    630052      2\n",
       "111   630126      2\n",
       "122   630137      2\n",
       "281   630320      2\n",
       "420   630471      2"
      ]
     },
     "execution_count": 85,
     "metadata": {},
     "output_type": "execute_result"
    }
   ],
   "source": [
    "duplicated_user_grp=df3[['user_id','group']].groupby(['user_id']).count().reset_index().query( 'group > 1')\n",
    "duplicated_user_grp.head()"
   ]
  },
  {
   "cell_type": "code",
   "execution_count": 21,
   "metadata": {},
   "outputs": [
    {
     "data": {
      "text/html": [
       "<div>\n",
       "<style scoped>\n",
       "    .dataframe tbody tr th:only-of-type {\n",
       "        vertical-align: middle;\n",
       "    }\n",
       "\n",
       "    .dataframe tbody tr th {\n",
       "        vertical-align: top;\n",
       "    }\n",
       "\n",
       "    .dataframe thead th {\n",
       "        text-align: right;\n",
       "    }\n",
       "</style>\n",
       "<table border=\"1\" class=\"dataframe\">\n",
       "  <thead>\n",
       "    <tr style=\"text-align: right;\">\n",
       "      <th></th>\n",
       "      <th>user_id</th>\n",
       "      <th>timestamp</th>\n",
       "      <th>group</th>\n",
       "      <th>landing_page</th>\n",
       "      <th>converted</th>\n",
       "    </tr>\n",
       "  </thead>\n",
       "  <tbody>\n",
       "    <tr>\n",
       "      <th>22513</th>\n",
       "      <td>630126</td>\n",
       "      <td>2017-01-14 13:35:54.778695</td>\n",
       "      <td>treatment</td>\n",
       "      <td>old_page</td>\n",
       "      <td>0</td>\n",
       "    </tr>\n",
       "    <tr>\n",
       "      <th>251762</th>\n",
       "      <td>630126</td>\n",
       "      <td>2017-01-19 17:16:00.280440</td>\n",
       "      <td>treatment</td>\n",
       "      <td>new_page</td>\n",
       "      <td>0</td>\n",
       "    </tr>\n",
       "  </tbody>\n",
       "</table>\n",
       "</div>"
      ],
      "text/plain": [
       "        user_id                  timestamp      group landing_page  converted\n",
       "22513    630126 2017-01-14 13:35:54.778695  treatment     old_page          0\n",
       "251762   630126 2017-01-19 17:16:00.280440  treatment     new_page          0"
      ]
     },
     "execution_count": 21,
     "metadata": {},
     "output_type": "execute_result"
    }
   ],
   "source": [
    "df3[df3['user_id']==630126]"
   ]
  },
  {
   "cell_type": "code",
   "execution_count": 86,
   "metadata": {},
   "outputs": [
    {
     "data": {
      "text/plain": [
       "(286690, 5)"
      ]
     },
     "execution_count": 86,
     "metadata": {},
     "output_type": "execute_result"
    }
   ],
   "source": [
    "df31=df3[~df3['user_id'].isin(duplicated_user_grp['user_id'])]\n",
    "df31.shape"
   ]
  },
  {
   "cell_type": "code",
   "execution_count": 88,
   "metadata": {},
   "outputs": [
    {
     "data": {
      "text/html": [
       "<div>\n",
       "<style scoped>\n",
       "    .dataframe tbody tr th:only-of-type {\n",
       "        vertical-align: middle;\n",
       "    }\n",
       "\n",
       "    .dataframe tbody tr th {\n",
       "        vertical-align: top;\n",
       "    }\n",
       "\n",
       "    .dataframe thead th {\n",
       "        text-align: right;\n",
       "    }\n",
       "</style>\n",
       "<table border=\"1\" class=\"dataframe\">\n",
       "  <thead>\n",
       "    <tr style=\"text-align: right;\">\n",
       "      <th></th>\n",
       "      <th>group</th>\n",
       "      <th>landing_page</th>\n",
       "      <th>user_id</th>\n",
       "    </tr>\n",
       "  </thead>\n",
       "  <tbody>\n",
       "    <tr>\n",
       "      <th>0</th>\n",
       "      <td>control</td>\n",
       "      <td>old_page</td>\n",
       "      <td>143293</td>\n",
       "    </tr>\n",
       "    <tr>\n",
       "      <th>1</th>\n",
       "      <td>treatment</td>\n",
       "      <td>new_page</td>\n",
       "      <td>143397</td>\n",
       "    </tr>\n",
       "  </tbody>\n",
       "</table>\n",
       "</div>"
      ],
      "text/plain": [
       "       group landing_page  user_id\n",
       "0    control     old_page   143293\n",
       "1  treatment     new_page   143397"
      ]
     },
     "execution_count": 88,
     "metadata": {},
     "output_type": "execute_result"
    }
   ],
   "source": [
    "df31[['user_id', 'group', 'landing_page']].groupby(['group', 'landing_page']).count().reset_index()"
   ]
  },
  {
   "cell_type": "markdown",
   "metadata": {},
   "source": [
    "# 4.0 Sample"
   ]
  },
  {
   "cell_type": "code",
   "execution_count": 89,
   "metadata": {},
   "outputs": [
    {
     "data": {
      "text/plain": [
       "(9440, 5)"
      ]
     },
     "execution_count": 89,
     "metadata": {},
     "output_type": "execute_result"
    }
   ],
   "source": [
    "df_control_sample=df31[df31['group']=='control'].sample(n=sample_n, random_state=42)\n",
    "df_treatment_sample=df31[df31['group']=='treatment'].sample(n=sample_n, random_state=42)\n",
    "\n",
    "df_ab=pd.concat([df_control_sample, df_treatment_sample])\n",
    "df_ab.shape"
   ]
  },
  {
   "cell_type": "code",
   "execution_count": 90,
   "metadata": {},
   "outputs": [
    {
     "data": {
      "text/plain": [
       "(4720, 5)"
      ]
     },
     "execution_count": 90,
     "metadata": {},
     "output_type": "execute_result"
    }
   ],
   "source": [
    "df_treatment_sample.shape"
   ]
  },
  {
   "cell_type": "code",
   "execution_count": 91,
   "metadata": {},
   "outputs": [
    {
     "data": {
      "text/plain": [
       "(4720, 5)"
      ]
     },
     "execution_count": 91,
     "metadata": {},
     "output_type": "execute_result"
    }
   ],
   "source": [
    "df_control_sample.shape"
   ]
  },
  {
   "cell_type": "markdown",
   "metadata": {},
   "source": [
    "# 5.0 Conversion Rate"
   ]
  },
  {
   "cell_type": "markdown",
   "metadata": {},
   "source": [
    "- explicit method to calculate conversion rate\n",
    "- GMV metric"
   ]
  },
  {
   "cell_type": "code",
   "execution_count": 108,
   "metadata": {},
   "outputs": [
    {
     "data": {
      "text/plain": [
       "'The conversion rate is: 0.12'"
      ]
     },
     "execution_count": 108,
     "metadata": {},
     "output_type": "execute_result"
    }
   ],
   "source": [
    "visitors=df_control_sample.shape[0]\n",
    "buyers=df_control_sample[df_control_sample['converted']==1].shape[0]\n",
    "con_rate=(buyers/visitors)\n",
    "\"The conversion rate is: {:.2f}\".format(con_rate)"
   ]
  },
  {
   "cell_type": "code",
   "execution_count": 110,
   "metadata": {},
   "outputs": [
    {
     "data": {
      "text/plain": [
       "mean    0.115466\n",
       "std     0.319617\n",
       "Name: converted, dtype: float64"
      ]
     },
     "execution_count": 110,
     "metadata": {},
     "output_type": "execute_result"
    }
   ],
   "source": [
    "df_control_sample['converted'].agg(['mean', 'std'])"
   ]
  },
  {
   "cell_type": "code",
   "execution_count": 111,
   "metadata": {},
   "outputs": [
    {
     "data": {
      "text/html": [
       "<div>\n",
       "<style scoped>\n",
       "    .dataframe tbody tr th:only-of-type {\n",
       "        vertical-align: middle;\n",
       "    }\n",
       "\n",
       "    .dataframe tbody tr th {\n",
       "        vertical-align: top;\n",
       "    }\n",
       "\n",
       "    .dataframe thead th {\n",
       "        text-align: right;\n",
       "    }\n",
       "</style>\n",
       "<table border=\"1\" class=\"dataframe\">\n",
       "  <thead>\n",
       "    <tr style=\"text-align: right;\">\n",
       "      <th></th>\n",
       "      <th>group</th>\n",
       "      <th>conversion_rate</th>\n",
       "      <th>standard_deviation</th>\n",
       "    </tr>\n",
       "  </thead>\n",
       "  <tbody>\n",
       "    <tr>\n",
       "      <th>0</th>\n",
       "      <td>control</td>\n",
       "      <td>0.12</td>\n",
       "      <td>0.32</td>\n",
       "    </tr>\n",
       "    <tr>\n",
       "      <th>1</th>\n",
       "      <td>treatment</td>\n",
       "      <td>0.13</td>\n",
       "      <td>0.34</td>\n",
       "    </tr>\n",
       "  </tbody>\n",
       "</table>\n",
       "</div>"
      ],
      "text/plain": [
       "       group  conversion_rate  standard_deviation\n",
       "0    control             0.12                0.32\n",
       "1  treatment             0.13                0.34"
      ]
     },
     "execution_count": 111,
     "metadata": {},
     "output_type": "execute_result"
    }
   ],
   "source": [
    "df5=df_ab[['group', 'converted']].groupby('group').agg({'converted':['mean', 'std']})\n",
    "df5.columns=['conversion_rate', 'standard_deviation']\n",
    "df5.round(2).reset_index()"
   ]
  },
  {
   "cell_type": "markdown",
   "metadata": {},
   "source": [
    "# 6.0 Hypothesis Test"
   ]
  },
  {
   "cell_type": "code",
   "execution_count": 130,
   "metadata": {},
   "outputs": [
    {
     "name": "stdout",
     "output_type": "stream",
     "text": [
      "-2.01\n",
      "0.04\n",
      "There is evidences to reject null hypothesis and assume the alternative - there is effect\n"
     ]
    }
   ],
   "source": [
    "visitors_control=df_control_sample['converted'].count()\n",
    "visitors_treatment=df_treatment_sample['converted'].count()\n",
    "\n",
    "buyers_control=df_control_sample['converted'].sum()\n",
    "buyers_treatment=df_treatment_sample['converted'].sum()\n",
    "\n",
    "buyers= [ buyers_control, buyers_treatment ]\n",
    "visitors= [visitors_control, visitors_treatment]\n",
    "\n",
    "z_stat, pval=p.proportions_ztest(buyers, visitors)\n",
    "print(z_stat.round(2))\n",
    "print(pval.round(2))\n",
    "\n",
    "if pval < 0.05:\n",
    "    print('There is evidences to reject null hypothesis and assume the alternative - there is effect')\n",
    "else:\n",
    "    print('There is no evidence to reject the hypothesis - no effect')"
   ]
  },
  {
   "cell_type": "code",
   "execution_count": 128,
   "metadata": {},
   "outputs": [
    {
     "name": "stdout",
     "output_type": "stream",
     "text": [
      "3.05\n",
      "0.08\n",
      "There is no evidence to reject the hypothesis - no effect\n"
     ]
    }
   ],
   "source": [
    "df_table=df_ab[['group', 'converted']].groupby('group').agg({'converted':['sum', 'count']})\n",
    "df_table.columns=['converted','not_converted']\n",
    "df_table.head().reset_index()\n",
    "\n",
    "\n",
    "chi_val, pval_chi, dof, expected = chi2_contingency(df_table)\n",
    "\n",
    "print(chi_val.round(2))\n",
    "print(pval_chi.round(2))\n",
    "\n",
    "\n",
    "if pval_chi < 0.05:\n",
    "    print('There is evidences to reject null hypothesis and assume the alternative - there is effect')\n",
    "else:\n",
    "    print('There is no evidence to reject the hypothesis - no effect')"
   ]
  },
  {
   "cell_type": "markdown",
   "metadata": {},
   "source": [
    "Coclusion"
   ]
  },
  {
   "cell_type": "markdown",
   "metadata": {},
   "source": [
    "# 7.0 PAGE CONVERSION TO INVOICE\n",
    "\n",
    "- These pages have a good number of visitors\n",
    "- A good page conversion is around 12% \n",
    "- Email is arround 22% \n"
   ]
  },
  {
   "cell_type": "code",
   "execution_count": null,
   "metadata": {},
   "outputs": [],
   "source": [
    "# What if the result was 15% of conversion ? how much money this would make?\n",
    "\n",
    "current_page = 0.13\n",
    "new_page=0.15\n",
    "product=4500\n",
    "\n",
    "df=df31.copy()"
   ]
  },
  {
   "cell_type": "markdown",
   "metadata": {},
   "source": [
    "- daily_visitants * current_page = buyers\n",
    "- buyers * product = Gross Margin Value"
   ]
  },
  {
   "cell_type": "code",
   "execution_count": 161,
   "metadata": {},
   "outputs": [
    {
     "name": "stdout",
     "output_type": "stream",
     "text": [
      "GMV on period: 167760000\n",
      "GMV on period: 193563000\n",
      "The absolute lift is: 25803000\n",
      "\n",
      "The expected lift for the new page is: 15.38%\n"
     ]
    }
   ],
   "source": [
    "df=df31[['user_id','timestamp']].groupby(['timestamp']).count().reset_index()\n",
    "\n",
    "# current GMV\n",
    "df['current_purchases']= np.ceil(df['user_id'] * 0.13).astype(int)\n",
    "df['current_gmv']=df['current_purchases'] * 4500\n",
    "print(f'GMV on period: {df.current_gmv.sum()}')\n",
    "\n",
    "# Expected GMV if 15% conversion occurs\n",
    "df['new_purchases']= np.ceil(df['user_id'] * 0.15).astype(int)\n",
    "df['new_gmv']=df['new_purchases'] * 4500\n",
    "print(f'GMV on period: {df.new_gmv.sum()}')\n",
    "\n",
    "current_gmv=df.current_gmv.sum()\n",
    "new_gmv=df.new_gmv.sum()\n",
    "\n",
    "absolute_lift=(new_gmv - current_gmv)\n",
    "print(f'The absolute lift is: {absolute_lift}')\n",
    "lift= 100*(new_gmv - current_gmv) / current_gmv\n",
    "print(f'\\nThe expected lift for the new page is: {lift.round(2)}%')"
   ]
  },
  {
   "cell_type": "code",
   "execution_count": 151,
   "metadata": {},
   "outputs": [
    {
     "data": {
      "text/html": [
       "<div>\n",
       "<style scoped>\n",
       "    .dataframe tbody tr th:only-of-type {\n",
       "        vertical-align: middle;\n",
       "    }\n",
       "\n",
       "    .dataframe tbody tr th {\n",
       "        vertical-align: top;\n",
       "    }\n",
       "\n",
       "    .dataframe thead th {\n",
       "        text-align: right;\n",
       "    }\n",
       "</style>\n",
       "<table border=\"1\" class=\"dataframe\">\n",
       "  <thead>\n",
       "    <tr style=\"text-align: right;\">\n",
       "      <th></th>\n",
       "      <th>user_id</th>\n",
       "      <th>timestamp</th>\n",
       "      <th>group</th>\n",
       "      <th>landing_page</th>\n",
       "      <th>converted</th>\n",
       "      <th>current_purchases</th>\n",
       "      <th>current_gmv</th>\n",
       "      <th>new_purchases</th>\n",
       "      <th>new_gmv</th>\n",
       "    </tr>\n",
       "  </thead>\n",
       "  <tbody>\n",
       "    <tr>\n",
       "      <th>0</th>\n",
       "      <td>851104</td>\n",
       "      <td>2017-01-21</td>\n",
       "      <td>control</td>\n",
       "      <td>old_page</td>\n",
       "      <td>0</td>\n",
       "      <td>110644</td>\n",
       "      <td>497898000</td>\n",
       "      <td>127665.60</td>\n",
       "      <td>574495200.0</td>\n",
       "    </tr>\n",
       "    <tr>\n",
       "      <th>1</th>\n",
       "      <td>804228</td>\n",
       "      <td>2017-01-12</td>\n",
       "      <td>control</td>\n",
       "      <td>old_page</td>\n",
       "      <td>0</td>\n",
       "      <td>104550</td>\n",
       "      <td>470475000</td>\n",
       "      <td>120634.20</td>\n",
       "      <td>542853900.0</td>\n",
       "    </tr>\n",
       "    <tr>\n",
       "      <th>2</th>\n",
       "      <td>661590</td>\n",
       "      <td>2017-01-11</td>\n",
       "      <td>treatment</td>\n",
       "      <td>new_page</td>\n",
       "      <td>0</td>\n",
       "      <td>86007</td>\n",
       "      <td>387031500</td>\n",
       "      <td>99238.50</td>\n",
       "      <td>446573250.0</td>\n",
       "    </tr>\n",
       "    <tr>\n",
       "      <th>3</th>\n",
       "      <td>853541</td>\n",
       "      <td>2017-01-08</td>\n",
       "      <td>treatment</td>\n",
       "      <td>new_page</td>\n",
       "      <td>0</td>\n",
       "      <td>110961</td>\n",
       "      <td>499324500</td>\n",
       "      <td>128031.15</td>\n",
       "      <td>576140175.0</td>\n",
       "    </tr>\n",
       "    <tr>\n",
       "      <th>4</th>\n",
       "      <td>864975</td>\n",
       "      <td>2017-01-21</td>\n",
       "      <td>control</td>\n",
       "      <td>old_page</td>\n",
       "      <td>1</td>\n",
       "      <td>112447</td>\n",
       "      <td>506011500</td>\n",
       "      <td>129746.25</td>\n",
       "      <td>583858125.0</td>\n",
       "    </tr>\n",
       "  </tbody>\n",
       "</table>\n",
       "</div>"
      ],
      "text/plain": [
       "   user_id   timestamp      group landing_page  converted  current_purchases  current_gmv  new_purchases      new_gmv\n",
       "0   851104  2017-01-21    control     old_page          0             110644    497898000      127665.60  574495200.0\n",
       "1   804228  2017-01-12    control     old_page          0             104550    470475000      120634.20  542853900.0\n",
       "2   661590  2017-01-11  treatment     new_page          0              86007    387031500       99238.50  446573250.0\n",
       "3   853541  2017-01-08  treatment     new_page          0             110961    499324500      128031.15  576140175.0\n",
       "4   864975  2017-01-21    control     old_page          1             112447    506011500      129746.25  583858125.0"
      ]
     },
     "execution_count": 151,
     "metadata": {},
     "output_type": "execute_result"
    }
   ],
   "source": []
  }
 ],
 "metadata": {
  "interpreter": {
   "hash": "32c8dfa823bf039946ba835cf3827bff8cdb97dc03d67435538eb09839092ad1"
  },
  "kernelspec": {
   "display_name": "Python 3.10.4 ('pa07_env')",
   "language": "python",
   "name": "python3"
  },
  "language_info": {
   "codemirror_mode": {
    "name": "ipython",
    "version": 3
   },
   "file_extension": ".py",
   "mimetype": "text/x-python",
   "name": "python",
   "nbconvert_exporter": "python",
   "pygments_lexer": "ipython3",
   "version": "3.10.4"
  },
  "orig_nbformat": 4
 },
 "nbformat": 4,
 "nbformat_minor": 2
}
